{
 "cells": [
  {
   "cell_type": "markdown",
   "id": "37d6dd6f-c354-4665-acaf-c208d57450ae",
   "metadata": {},
   "source": [
    "## Customer Segmentation RFM"
   ]
  },
  {
   "cell_type": "markdown",
   "id": "3862983d-025b-4d5c-9a78-362d594d7e9c",
   "metadata": {},
   "source": [
    "## **Content:**\n",
    "\"Thistransnational data seth contains all the transactions occurring between 01/12/2010 and 09/12/2011 for a UK-based and registered non-store online retail .The company mainly sells unique all-occasion gifts. Many customers of the company are wholesalers For more: https://www.kaggle.com/datasets/carrie1/ecommerce-data\""
   ]
  },
  {
   "cell_type": "markdown",
   "id": "c8376687-e3ab-4d89-983b-e4cff0808d3a",
   "metadata": {},
   "source": [
    "Customer Segmentation using RFM (Recency, Frequency, Monetary) is a method used to identify and categorize customers based on their purchasing behavior, allowing businesses to tailor marketing strategies effectively. Recency measures how recently a customer made a purchase, Frequency evaluates how often they purchase, and Monetary assesses the total spending of a customer. By analyzing these three dimensions, businesses can segment customers into distinct groups, such as loyal customers, big spenders, or at-risk customers. This segmentation helps in understanding the value of different customer groups, predicting future behaviors, and creating targeted marketing campaigns to enhance customer retention and maximize revenue."
   ]
  },
  {
   "cell_type": "code",
   "execution_count": 1,
   "id": "1c42f9cf-c224-400d-aa09-ae20a524b956",
   "metadata": {},
   "outputs": [],
   "source": [
    "import warnings\n",
    "warnings.filterwarnings('ignore')"
   ]
  },
  {
   "cell_type": "code",
   "execution_count": 2,
   "id": "1b30fa72",
   "metadata": {},
   "outputs": [],
   "source": [
    "import numpy as np\n",
    "import pandas as pd\n",
    "import matplotlib.pyplot as plt\n",
    "from matplotlib import colors\n",
    "import seaborn as sns\n",
    "from sklearn.preprocessing import StandardScaler\n",
    "from sklearn.decomposition import PCA\n",
    "from yellowbrick.cluster import KElbowVisualizer\n",
    "from sklearn.cluster import KMeans\n",
    "from sklearn.metrics import silhouette_score\n",
    "from sklearn.metrics import adjusted_rand_score"
   ]
  },
  {
   "cell_type": "code",
   "execution_count": 5,
   "id": "c77532a9",
   "metadata": {},
   "outputs": [
    {
     "ename": "SyntaxError",
     "evalue": "(unicode error) 'unicodeescape' codec can't decode bytes in position 2-3: truncated \\UXXXXXXXX escape (2901145872.py, line 1)",
     "output_type": "error",
     "traceback": [
      "\u001b[1;36m  Cell \u001b[1;32mIn[5], line 1\u001b[1;36m\u001b[0m\n\u001b[1;33m    df = pd.read_csv('C:\\Users\\omoto\\OneDrive\\Desktop\\Training\\Machine Learning\\Projects\\Unsupervised Learning\\E-Commerce\\Data\\data.csv')\u001b[0m\n\u001b[1;37m                                                                                                                                        ^\u001b[0m\n\u001b[1;31mSyntaxError\u001b[0m\u001b[1;31m:\u001b[0m (unicode error) 'unicodeescape' codec can't decode bytes in position 2-3: truncated \\UXXXXXXXX escape\n"
     ]
    }
   ],
   "source": [
    "df = pd.read_csv('C:\\Users\\omoto\\OneDrive\\Desktop\\Training\\Machine Learning\\Projects\\Unsupervised Learning\\E-Commerce\\Data\\data.csv')\n",
    "df.tail()"
   ]
  },
  {
   "cell_type": "code",
   "execution_count": null,
   "id": "a4f14bfd",
   "metadata": {},
   "outputs": [],
   "source": []
  }
 ],
 "metadata": {
  "kernelspec": {
   "display_name": "Python 3 (ipykernel)",
   "language": "python",
   "name": "python3"
  },
  "language_info": {
   "codemirror_mode": {
    "name": "ipython",
    "version": 3
   },
   "file_extension": ".py",
   "mimetype": "text/x-python",
   "name": "python",
   "nbconvert_exporter": "python",
   "pygments_lexer": "ipython3",
   "version": "3.11.4"
  }
 },
 "nbformat": 4,
 "nbformat_minor": 5
}
